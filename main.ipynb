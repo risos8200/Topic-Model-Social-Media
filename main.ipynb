{
 "cells": [
  {
   "cell_type": "code",
   "execution_count": 1,
   "id": "52ab906a-588a-4deb-9de7-9138fc02d8d6",
   "metadata": {},
   "outputs": [],
   "source": [
    "from bertopic import BERTopic\n",
    "from sklearn.datasets import fetch_20newsgroups"
   ]
  },
  {
   "cell_type": "code",
   "execution_count": 156,
   "id": "26ecdb73-39cd-4a4c-a365-7d91d39edaf9",
   "metadata": {},
   "outputs": [],
   "source": [
    "import pickle \n",
    "import os\n",
    "if(os.path.exists('saved_dictionary.pkl')):    \n",
    "    with open('saved_dictionary.pkl', 'rb') as f:\n",
    "        loaded_dict = pickle.load(f)\n",
    "else:\n",
    "    loaded_dict={}"
   ]
  },
  {
   "cell_type": "code",
   "execution_count": 157,
   "id": "a78ce1b9-ec37-4926-8b4b-b47a849e24ce",
   "metadata": {},
   "outputs": [],
   "source": [
    "# if(os.path.exists('data.csv')):\n",
    "#     df = pd.read_csv('data.csv')\n",
    "# else:\n",
    "#     df = pd.DataFrame()\n",
    "#     df['topic']=[]\n",
    "#     df['count']=[]"
   ]
  },
  {
   "cell_type": "code",
   "execution_count": 4,
   "id": "97cd763d-5b2b-4e5e-b363-d77c89cfc6c4",
   "metadata": {},
   "outputs": [],
   "source": [
    "data = fetch_20newsgroups(subset='all', remove=('headers', 'footers', 'quotes'))['data']"
   ]
  },
  {
   "cell_type": "code",
   "execution_count": 5,
   "id": "c781d07b-7204-4bbf-8298-f868df076a39",
   "metadata": {},
   "outputs": [
    {
     "data": {
      "application/vnd.jupyter.widget-view+json": {
       "model_id": "e7bb998ff8be4edaa9302c5eef770eff",
       "version_major": 2,
       "version_minor": 0
      },
      "text/plain": [
       "Batches:   0%|          | 0/589 [00:00<?, ?it/s]"
      ]
     },
     "metadata": {},
     "output_type": "display_data"
    },
    {
     "name": "stderr",
     "output_type": "stream",
     "text": [
      "2023-03-10 16:05:20,789 - BERTopic - Transformed documents to Embeddings\n",
      "2023-03-10 16:05:41,271 - BERTopic - Reduced dimensionality\n"
     ]
    },
    {
     "name": "stdout",
     "output_type": "stream",
     "text": [
      "huggingface/tokenizers: The current process just got forked, after parallelism has already been used. Disabling parallelism to avoid deadlocks...\n",
      "To disable this warning, you can either:\n",
      "\t- Avoid using `tokenizers` before the fork if possible\n",
      "\t- Explicitly set the environment variable TOKENIZERS_PARALLELISM=(true | false)\n",
      "huggingface/tokenizers: The current process just got forked, after parallelism has already been used. Disabling parallelism to avoid deadlocks...\n",
      "To disable this warning, you can either:\n",
      "\t- Avoid using `tokenizers` before the fork if possible\n",
      "\t- Explicitly set the environment variable TOKENIZERS_PARALLELISM=(true | false)\n",
      "huggingface/tokenizers: The current process just got forked, after parallelism has already been used. Disabling parallelism to avoid deadlocks...\n",
      "To disable this warning, you can either:\n",
      "\t- Avoid using `tokenizers` before the fork if possible\n",
      "\t- Explicitly set the environment variable TOKENIZERS_PARALLELISM=(true | false)\n",
      "huggingface/tokenizers: The current process just got forked, after parallelism has already been used. Disabling parallelism to avoid deadlocks...\n",
      "To disable this warning, you can either:\n",
      "\t- Avoid using `tokenizers` before the fork if possible\n",
      "\t- Explicitly set the environment variable TOKENIZERS_PARALLELISM=(true | false)\n",
      "huggingface/tokenizers: The current process just got forked, after parallelism has already been used. Disabling parallelism to avoid deadlocks...\n",
      "To disable this warning, you can either:\n",
      "\t- Avoid using `tokenizers` before the fork if possible\n",
      "\t- Explicitly set the environment variable TOKENIZERS_PARALLELISM=(true | false)\n",
      "huggingface/tokenizers: The current process just got forked, after parallelism has already been used. Disabling parallelism to avoid deadlocks...\n",
      "To disable this warning, you can either:\n",
      "\t- Avoid using `tokenizers` before the fork if possible\n",
      "\t- Explicitly set the environment variable TOKENIZERS_PARALLELISM=(true | false)\n"
     ]
    },
    {
     "name": "stderr",
     "output_type": "stream",
     "text": [
      "2023-03-10 16:05:42,471 - BERTopic - Clustered reduced embeddings\n"
     ]
    }
   ],
   "source": [
    "topic_model = BERTopic(language=\"english\", verbose=True)\n",
    "topics, probs = topic_model.fit_transform(data)"
   ]
  },
  {
   "cell_type": "code",
   "execution_count": 6,
   "id": "bbef7394-7981-4d7e-8c92-c2a80e30cce8",
   "metadata": {},
   "outputs": [],
   "source": [
    "def get_tweet_topic(tweet):\n",
    "    topic,prob=topic_model.transform([tweet])\n",
    "    return(topic_model.get_topic(topic[0])[0][0] if topic[0]!=-1 else None)"
   ]
  },
  {
   "cell_type": "code",
   "execution_count": 166,
   "id": "ed088184-9b5f-47f7-a665-ccbd39eed93f",
   "metadata": {},
   "outputs": [
    {
     "data": {
      "application/vnd.jupyter.widget-view+json": {
       "model_id": "8ff240ff791d4bd69d049124100f96f6",
       "version_major": 2,
       "version_minor": 0
      },
      "text/plain": [
       "Batches:   0%|          | 0/1 [00:00<?, ?it/s]"
      ]
     },
     "metadata": {},
     "output_type": "display_data"
    },
    {
     "name": "stderr",
     "output_type": "stream",
     "text": [
      "2023-03-10 16:36:43,134 - BERTopic - Reduced dimensionality\n",
      "2023-03-10 16:36:43,136 - BERTopic - Predicted clusters\n"
     ]
    },
    {
     "name": "stdout",
     "output_type": "stream",
     "text": [
      "game\n"
     ]
    }
   ],
   "source": [
    "topic=get_tweet_topic(data[0])\n",
    "print(topic)"
   ]
  },
  {
   "cell_type": "code",
   "execution_count": 168,
   "id": "9782393c-62e2-4857-9a79-e9f490841c09",
   "metadata": {},
   "outputs": [
    {
     "name": "stdout",
     "output_type": "stream",
     "text": [
      "{'game': 5, 'tape': 3}\n"
     ]
    }
   ],
   "source": [
    "if topic is not None:\n",
    "    if topic in loaded_dict:\n",
    "        loaded_dict[topic]+=1\n",
    "    else:\n",
    "        loaded_dict[topic]=1\n",
    "print(loaded_dict)\n",
    "        "
   ]
  },
  {
   "cell_type": "code",
   "execution_count": 169,
   "id": "91508d20-6aa4-40b4-bb63-b1e37452264a",
   "metadata": {},
   "outputs": [],
   "source": [
    "with open('saved_dictionary.pkl', 'wb') as f:\n",
    "    pickle.dump(loaded_dict, f)"
   ]
  },
  {
   "cell_type": "code",
   "execution_count": 86,
   "id": "a74fdb09-b20e-4f6e-90c1-c0b2a5efc697",
   "metadata": {},
   "outputs": [],
   "source": [
    "df.to_csv('data.csv', index= False)"
   ]
  }
 ],
 "metadata": {
  "kernelspec": {
   "display_name": "Python 3 (ipykernel)",
   "language": "python",
   "name": "python3"
  },
  "language_info": {
   "codemirror_mode": {
    "name": "ipython",
    "version": 3
   },
   "file_extension": ".py",
   "mimetype": "text/x-python",
   "name": "python",
   "nbconvert_exporter": "python",
   "pygments_lexer": "ipython3",
   "version": "3.8.10"
  }
 },
 "nbformat": 4,
 "nbformat_minor": 5
}
